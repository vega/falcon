{
 "cells": [
  {
   "cell_type": "code",
   "execution_count": 1,
   "metadata": {},
   "outputs": [],
   "source": [
    "import pandas as pd\n",
    "import pyarrow as pa\n",
    "import pyarrow.parquet as pq\n",
    "import numpy as np\n",
    "import json"
   ]
  },
  {
   "cell_type": "code",
   "execution_count": 4,
   "metadata": {},
   "outputs": [],
   "source": [
    "data = pd.read_csv('flights_2006_2010.csv', sep='\\t', encoding='utf-8', dtype={'FlightDate': 'str', 'ArrTime': 'str', 'DepTime': 'str'})"
   ]
  },
  {
   "cell_type": "code",
   "execution_count": 10,
   "metadata": {},
   "outputs": [],
   "source": [
    "with_json = False\n",
    "export_parquet = True"
   ]
  },
  {
   "cell_type": "code",
   "execution_count": 5,
   "metadata": {},
   "outputs": [],
   "source": [
    "renamed = data.rename(index=str, columns={\"FlightDate\": \"FL_DATE\", \"DepTime\": \"DEP_TIME\", \"ArrTime\": \"ARR_TIME\", \"Distance\": \"DISTANCE\", \"AirTime\": \"AIR_TIME\", \"DepDelay\": \"DEP_DELAY\", \"ArrDelay\": \"ARR_DELAY\"})\n",
    "\n",
    "renamed['FL_DATE'] = pd.to_datetime(renamed.FL_DATE, format='%Y-%m-%d').dt.date\n",
    "\n",
    "renamed['DEP_TIME'] = renamed.DEP_TIME.replace('2400', '0000')\n",
    "renamed['ARR_TIME'] = renamed.ARR_TIME.replace('2400', '0000')\n",
    "\n",
    "def toTime(col):\n",
    "    col = pd.to_numeric(col)\n",
    "    col = (col/100).apply(np.floor) + (col.mod(100)) / 60.\n",
    "    return col\n",
    "\n",
    "renamed['DEP_TIME'] = toTime(renamed['DEP_TIME'])\n",
    "renamed['ARR_TIME'] = toTime(renamed['ARR_TIME'])\n",
    "\n",
    "types = {\n",
    "    'DEP_DELAY': 'int16',\n",
    "    'ARR_DELAY': 'int16',\n",
    "    'AIR_TIME': 'int16',\n",
    "    'DISTANCE': 'int16',\n",
    "    'DEP_TIME': 'float32' if export_parquet else 'float16',  # parquet does not support halfloats right now\n",
    "    'ARR_TIME': 'float32' if export_parquet else 'float16',\n",
    "}\n",
    "columns = ['FL_DATE'] + list(types.keys())\n",
    "renamed = renamed[columns]\n",
    "renamed = renamed.dropna()\n",
    "\n",
    "right_types = renamed.astype(types)"
   ]
  },
  {
   "cell_type": "code",
   "execution_count": 15,
   "metadata": {},
   "outputs": [
    {
     "data": {
      "text/html": [
       "<div>\n",
       "<style scoped>\n",
       "    .dataframe tbody tr th:only-of-type {\n",
       "        vertical-align: middle;\n",
       "    }\n",
       "\n",
       "    .dataframe tbody tr th {\n",
       "        vertical-align: top;\n",
       "    }\n",
       "\n",
       "    .dataframe thead th {\n",
       "        text-align: right;\n",
       "    }\n",
       "</style>\n",
       "<table border=\"1\" class=\"dataframe\">\n",
       "  <thead>\n",
       "    <tr style=\"text-align: right;\">\n",
       "      <th></th>\n",
       "      <th>FL_DATE</th>\n",
       "      <th>DEP_DELAY</th>\n",
       "      <th>ARR_DELAY</th>\n",
       "      <th>AIR_TIME</th>\n",
       "      <th>DISTANCE</th>\n",
       "      <th>DEP_TIME</th>\n",
       "      <th>ARR_TIME</th>\n",
       "    </tr>\n",
       "  </thead>\n",
       "  <tbody>\n",
       "    <tr>\n",
       "      <th>0</th>\n",
       "      <td>2006-01-01</td>\n",
       "      <td>5</td>\n",
       "      <td>19</td>\n",
       "      <td>350</td>\n",
       "      <td>2475</td>\n",
       "      <td>9.083333</td>\n",
       "      <td>12.483334</td>\n",
       "    </tr>\n",
       "    <tr>\n",
       "      <th>1</th>\n",
       "      <td>2006-01-02</td>\n",
       "      <td>167</td>\n",
       "      <td>216</td>\n",
       "      <td>343</td>\n",
       "      <td>2475</td>\n",
       "      <td>11.783334</td>\n",
       "      <td>15.766666</td>\n",
       "    </tr>\n",
       "    <tr>\n",
       "      <th>2</th>\n",
       "      <td>2006-01-03</td>\n",
       "      <td>-7</td>\n",
       "      <td>-2</td>\n",
       "      <td>344</td>\n",
       "      <td>2475</td>\n",
       "      <td>8.883333</td>\n",
       "      <td>12.133333</td>\n",
       "    </tr>\n",
       "    <tr>\n",
       "      <th>3</th>\n",
       "      <td>2006-01-04</td>\n",
       "      <td>-5</td>\n",
       "      <td>-13</td>\n",
       "      <td>331</td>\n",
       "      <td>2475</td>\n",
       "      <td>8.916667</td>\n",
       "      <td>11.950000</td>\n",
       "    </tr>\n",
       "    <tr>\n",
       "      <th>4</th>\n",
       "      <td>2006-01-05</td>\n",
       "      <td>-3</td>\n",
       "      <td>-17</td>\n",
       "      <td>321</td>\n",
       "      <td>2475</td>\n",
       "      <td>8.950000</td>\n",
       "      <td>11.883333</td>\n",
       "    </tr>\n",
       "  </tbody>\n",
       "</table>\n",
       "</div>"
      ],
      "text/plain": [
       "      FL_DATE  DEP_DELAY  ARR_DELAY  AIR_TIME  DISTANCE   DEP_TIME   ARR_TIME\n",
       "0  2006-01-01          5         19       350      2475   9.083333  12.483334\n",
       "1  2006-01-02        167        216       343      2475  11.783334  15.766666\n",
       "2  2006-01-03         -7         -2       344      2475   8.883333  12.133333\n",
       "3  2006-01-04         -5        -13       331      2475   8.916667  11.950000\n",
       "4  2006-01-05         -3        -17       321      2475   8.950000  11.883333"
      ]
     },
     "execution_count": 15,
     "metadata": {},
     "output_type": "execute_result"
    }
   ],
   "source": [
    "right_types.head()"
   ]
  },
  {
   "cell_type": "code",
   "execution_count": 17,
   "metadata": {},
   "outputs": [
    {
     "name": "stdout",
     "output_type": "stream",
     "text": [
      "34507508\n",
      "33803130\n",
      "33803130\n"
     ]
    }
   ],
   "source": [
    "print(len(data))\n",
    "print(len(renamed))\n",
    "print(len(right_types))"
   ]
  },
  {
   "cell_type": "code",
   "execution_count": 12,
   "metadata": {},
   "outputs": [
    {
     "name": "stdout",
     "output_type": "stream",
     "text": [
      "flights-10k 10000\n",
      "flights-200k 200000\n",
      "flights-500k 500000\n",
      "flights-1m 1000000\n",
      "flights-3m 3000000\n",
      "flights-10m 10000000\n",
      "flights-100m 33803130\n"
     ]
    }
   ],
   "source": [
    "def json_serial(obj):\n",
    "    return int(obj.strftime(\"%s\"))\n",
    "\n",
    "for size, name in [(10000, 'flights-10k'), (200000, 'flights-200k'), (500000, 'flights-500k'), (1000000, 'flights-1m'), (3000000, 'flights-3m'), (10000000, 'flights-10m'), (100000000, 'flights-100m')]:\n",
    "    smaller = right_types[:size]\n",
    "\n",
    "    print(name, len(smaller))\n",
    "\n",
    "    table = pa.Table.from_pandas(smaller, preserve_index=False)\n",
    "\n",
    "    if with_json:\n",
    "        d = {}\n",
    "        for column in smaller.columns:\n",
    "            d[column]=list(smaller[column])\n",
    "\n",
    "        with open(f'{name}.json', 'w') as f:\n",
    "            json.dump(d, f, default=json_serial, separators=(',', ':'))\n",
    "\n",
    "    # table = table.column('ARRIVAL').cast(pa.TimestampValue, True)\n",
    "\n",
    "    if export_parquet:\n",
    "        pq.write_table(table, f'{name}.parquet')\n",
    "    else:\n",
    "        writer = pa.RecordBatchFileWriter(f'{name}.arrow', table.schema)\n",
    "        writer.write(table)\n",
    "        writer.close()"
   ]
  },
  {
   "cell_type": "code",
   "execution_count": 8,
   "metadata": {},
   "outputs": [
    {
     "name": "stdout",
     "output_type": "stream",
     "text": [
      "total 11194720\n",
      "drwxr-xr-x  28 dominik  staff   896B Jan 21 09:39 \u001b[34m.\u001b[m\u001b[m\n",
      "drwxr-xr-x  31 dominik  staff   992B Jan 21 09:15 \u001b[34m..\u001b[m\u001b[m\n",
      "drwxr-xr-x   2 dominik  staff    64B Jan 21 09:36 \u001b[34m.ipynb_checkpoints\u001b[m\u001b[m\n",
      "-rw-r--r--   1 dominik  staff    28M Aug 14 09:40 564230852_T_ONTIME.csv\n",
      "-rw-r--r--   1 dominik  staff   4.0K Jan 21 09:36 convert_flights.ipynb\n",
      "-rw-r--r--   1 dominik  staff    17K Aug 14 09:40 convert_movies.ipynb\n",
      "-rw-r--r--   1 dominik  staff    15K Aug 14 09:40 convert_weather.ipynb\n",
      "-rw-r--r--   1 dominik  staff    20M Aug 14 09:40 error analysis-full.ipynb\n",
      "-rw-r--r--   1 dominik  staff    11M Aug 14 09:40 error analysis.ipynb\n",
      "-rw-r--r--   1 dominik  staff   160K Aug 14 09:40 flights-10k.arrow\n",
      "-rw-r--r--   1 dominik  staff   400K Aug 14 09:40 flights-10k.csv\n",
      "-rw-r--r--   1 dominik  staff   409K Aug 14 09:40 flights-10k.json\n",
      "-rw-r--r--   1 dominik  staff    80K Jan 21 09:39 flights-10k.parquet\n",
      "-rw-r--r--   1 dominik  staff    72M Jan 21 09:39 flights-10m.parquet\n",
      "-rw-r--r--   1 dominik  staff    15M Aug 14 09:40 flights-1m.arrow\n",
      "-rw-r--r--   1 dominik  staff    31M Aug 14 09:40 flights-1m.csv\n",
      "-rw-r--r--   1 dominik  staff   7.0M Jan 21 09:39 flights-1m.parquet\n",
      "-rw-r--r--   1 dominik  staff   7.7M Aug 14 09:40 flights-200k.csv\n",
      "-rw-r--r--   1 dominik  staff   1.3M Jan 21 09:39 flights-200k.parquet\n",
      "-rw-r--r--   1 dominik  staff    92M Aug 14 09:40 flights-3m.csv\n",
      "-rw-r--r--   1 dominik  staff    21M Jan 21 09:39 flights-3m.parquet\n",
      "-rw-r--r--   1 dominik  staff    18M Aug 14 09:40 flights-500k.csv\n",
      "-rw-r--r--   1 dominik  staff   3.4M Jan 21 09:39 flights-500k.parquet\n",
      "-rw-r--r--   1 dominik  staff   5.0G Jan 21 09:30 flights_2006_2010.csv\n",
      "-rw-r--r--   1 dominik  staff    78K Aug 14 09:40 movies.arrow\n",
      "-rw-r--r--   1 dominik  staff   1.2M Aug 14 09:40 movies.json\n",
      "-rw-r--r--   1 dominik  staff   440K Aug 14 09:40 weather-10k.arrow\n",
      "-rw-r--r--   1 dominik  staff    22M Aug 14 09:40 weather-500k.arrow\n"
     ]
    }
   ],
   "source": [
    "!ls -lah"
   ]
  },
  {
   "cell_type": "code",
   "execution_count": null,
   "metadata": {},
   "outputs": [],
   "source": []
  }
 ],
 "metadata": {
  "kernelspec": {
   "display_name": "Python 3",
   "language": "python",
   "name": "python3"
  },
  "language_info": {
   "codemirror_mode": {
    "name": "ipython",
    "version": 3
   },
   "file_extension": ".py",
   "mimetype": "text/x-python",
   "name": "python",
   "nbconvert_exporter": "python",
   "pygments_lexer": "ipython3",
   "version": "3.9.7"
  }
 },
 "nbformat": 4,
 "nbformat_minor": 4
}
